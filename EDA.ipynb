{
  "nbformat": 4,
  "nbformat_minor": 0,
  "metadata": {
    "colab": {
      "name": "EDA.ipynb",
      "provenance": [],
      "collapsed_sections": []
    },
    "kernelspec": {
      "name": "python3",
      "display_name": "Python 3"
    },
    "language_info": {
      "name": "python"
    }
  },
  "cells": [
    {
      "cell_type": "code",
      "metadata": {
        "id": "8LQu-DqI7WtS"
      },
      "source": [
        "import numpy as np\n",
        "import pandas as pd\n",
        "import matplotlib.pyplot as plt\n",
        "import seaborn as sns\n"
      ],
      "execution_count": 37,
      "outputs": []
    },
    {
      "cell_type": "code",
      "metadata": {
        "colab": {
          "base_uri": "https://localhost:8080/",
          "height": 204
        },
        "id": "NPn_PBdu7vC5",
        "outputId": "675448ee-2f19-4529-a27e-39d397494d7c"
      },
      "source": [
        "train = pd.read_csv('/content/drive/MyDrive/train.csv')\n",
        "train.head()"
      ],
      "execution_count": 38,
      "outputs": [
        {
          "output_type": "execute_result",
          "data": {
            "text/html": [
              "<div>\n",
              "<style scoped>\n",
              "    .dataframe tbody tr th:only-of-type {\n",
              "        vertical-align: middle;\n",
              "    }\n",
              "\n",
              "    .dataframe tbody tr th {\n",
              "        vertical-align: top;\n",
              "    }\n",
              "\n",
              "    .dataframe thead th {\n",
              "        text-align: right;\n",
              "    }\n",
              "</style>\n",
              "<table border=\"1\" class=\"dataframe\">\n",
              "  <thead>\n",
              "    <tr style=\"text-align: right;\">\n",
              "      <th></th>\n",
              "      <th>ID</th>\n",
              "      <th>Gender</th>\n",
              "      <th>Age</th>\n",
              "      <th>Region_Code</th>\n",
              "      <th>Occupation</th>\n",
              "      <th>Channel_Code</th>\n",
              "      <th>Vintage</th>\n",
              "      <th>Credit_Product</th>\n",
              "      <th>Avg_Account_Balance</th>\n",
              "      <th>Is_Active</th>\n",
              "      <th>Is_Lead</th>\n",
              "    </tr>\n",
              "  </thead>\n",
              "  <tbody>\n",
              "    <tr>\n",
              "      <th>0</th>\n",
              "      <td>NNVBBKZB</td>\n",
              "      <td>Female</td>\n",
              "      <td>73</td>\n",
              "      <td>RG268</td>\n",
              "      <td>Other</td>\n",
              "      <td>X3</td>\n",
              "      <td>43</td>\n",
              "      <td>No</td>\n",
              "      <td>1045696</td>\n",
              "      <td>No</td>\n",
              "      <td>0</td>\n",
              "    </tr>\n",
              "    <tr>\n",
              "      <th>1</th>\n",
              "      <td>IDD62UNG</td>\n",
              "      <td>Female</td>\n",
              "      <td>30</td>\n",
              "      <td>RG277</td>\n",
              "      <td>Salaried</td>\n",
              "      <td>X1</td>\n",
              "      <td>32</td>\n",
              "      <td>No</td>\n",
              "      <td>581988</td>\n",
              "      <td>No</td>\n",
              "      <td>0</td>\n",
              "    </tr>\n",
              "    <tr>\n",
              "      <th>2</th>\n",
              "      <td>HD3DSEMC</td>\n",
              "      <td>Female</td>\n",
              "      <td>56</td>\n",
              "      <td>RG268</td>\n",
              "      <td>Self_Employed</td>\n",
              "      <td>X3</td>\n",
              "      <td>26</td>\n",
              "      <td>No</td>\n",
              "      <td>1484315</td>\n",
              "      <td>Yes</td>\n",
              "      <td>0</td>\n",
              "    </tr>\n",
              "    <tr>\n",
              "      <th>3</th>\n",
              "      <td>BF3NC7KV</td>\n",
              "      <td>Male</td>\n",
              "      <td>34</td>\n",
              "      <td>RG270</td>\n",
              "      <td>Salaried</td>\n",
              "      <td>X1</td>\n",
              "      <td>19</td>\n",
              "      <td>No</td>\n",
              "      <td>470454</td>\n",
              "      <td>No</td>\n",
              "      <td>0</td>\n",
              "    </tr>\n",
              "    <tr>\n",
              "      <th>4</th>\n",
              "      <td>TEASRWXV</td>\n",
              "      <td>Female</td>\n",
              "      <td>30</td>\n",
              "      <td>RG282</td>\n",
              "      <td>Salaried</td>\n",
              "      <td>X1</td>\n",
              "      <td>33</td>\n",
              "      <td>No</td>\n",
              "      <td>886787</td>\n",
              "      <td>No</td>\n",
              "      <td>0</td>\n",
              "    </tr>\n",
              "  </tbody>\n",
              "</table>\n",
              "</div>"
            ],
            "text/plain": [
              "         ID  Gender  Age  ... Avg_Account_Balance Is_Active Is_Lead\n",
              "0  NNVBBKZB  Female   73  ...             1045696        No       0\n",
              "1  IDD62UNG  Female   30  ...              581988        No       0\n",
              "2  HD3DSEMC  Female   56  ...             1484315       Yes       0\n",
              "3  BF3NC7KV    Male   34  ...              470454        No       0\n",
              "4  TEASRWXV  Female   30  ...              886787        No       0\n",
              "\n",
              "[5 rows x 11 columns]"
            ]
          },
          "metadata": {},
          "execution_count": 38
        }
      ]
    },
    {
      "cell_type": "code",
      "metadata": {
        "colab": {
          "base_uri": "https://localhost:8080/"
        },
        "id": "jQv4yGuj9vaP",
        "outputId": "bf770195-5ab3-412c-8919-4246f0b03da8"
      },
      "source": [
        "train.shape"
      ],
      "execution_count": 39,
      "outputs": [
        {
          "output_type": "execute_result",
          "data": {
            "text/plain": [
              "(245725, 11)"
            ]
          },
          "metadata": {},
          "execution_count": 39
        }
      ]
    },
    {
      "cell_type": "code",
      "metadata": {
        "colab": {
          "base_uri": "https://localhost:8080/",
          "height": 204
        },
        "id": "xmSdMcIM-omV",
        "outputId": "4698c4ed-2386-43f9-e4d3-0f27384dd68e"
      },
      "source": [
        "test = pd.read_csv('/content/drive/MyDrive/test.csv')\n",
        "test.head()"
      ],
      "execution_count": 40,
      "outputs": [
        {
          "output_type": "execute_result",
          "data": {
            "text/html": [
              "<div>\n",
              "<style scoped>\n",
              "    .dataframe tbody tr th:only-of-type {\n",
              "        vertical-align: middle;\n",
              "    }\n",
              "\n",
              "    .dataframe tbody tr th {\n",
              "        vertical-align: top;\n",
              "    }\n",
              "\n",
              "    .dataframe thead th {\n",
              "        text-align: right;\n",
              "    }\n",
              "</style>\n",
              "<table border=\"1\" class=\"dataframe\">\n",
              "  <thead>\n",
              "    <tr style=\"text-align: right;\">\n",
              "      <th></th>\n",
              "      <th>ID</th>\n",
              "      <th>Gender</th>\n",
              "      <th>Age</th>\n",
              "      <th>Region_Code</th>\n",
              "      <th>Occupation</th>\n",
              "      <th>Channel_Code</th>\n",
              "      <th>Vintage</th>\n",
              "      <th>Credit_Product</th>\n",
              "      <th>Avg_Account_Balance</th>\n",
              "      <th>Is_Active</th>\n",
              "    </tr>\n",
              "  </thead>\n",
              "  <tbody>\n",
              "    <tr>\n",
              "      <th>0</th>\n",
              "      <td>VBENBARO</td>\n",
              "      <td>Male</td>\n",
              "      <td>29</td>\n",
              "      <td>RG254</td>\n",
              "      <td>Other</td>\n",
              "      <td>X1</td>\n",
              "      <td>25</td>\n",
              "      <td>Yes</td>\n",
              "      <td>742366</td>\n",
              "      <td>No</td>\n",
              "    </tr>\n",
              "    <tr>\n",
              "      <th>1</th>\n",
              "      <td>CCMEWNKY</td>\n",
              "      <td>Male</td>\n",
              "      <td>43</td>\n",
              "      <td>RG268</td>\n",
              "      <td>Other</td>\n",
              "      <td>X2</td>\n",
              "      <td>49</td>\n",
              "      <td>NaN</td>\n",
              "      <td>925537</td>\n",
              "      <td>No</td>\n",
              "    </tr>\n",
              "    <tr>\n",
              "      <th>2</th>\n",
              "      <td>VK3KGA9M</td>\n",
              "      <td>Male</td>\n",
              "      <td>31</td>\n",
              "      <td>RG270</td>\n",
              "      <td>Salaried</td>\n",
              "      <td>X1</td>\n",
              "      <td>14</td>\n",
              "      <td>No</td>\n",
              "      <td>215949</td>\n",
              "      <td>No</td>\n",
              "    </tr>\n",
              "    <tr>\n",
              "      <th>3</th>\n",
              "      <td>TT8RPZVC</td>\n",
              "      <td>Male</td>\n",
              "      <td>29</td>\n",
              "      <td>RG272</td>\n",
              "      <td>Other</td>\n",
              "      <td>X1</td>\n",
              "      <td>33</td>\n",
              "      <td>No</td>\n",
              "      <td>868070</td>\n",
              "      <td>No</td>\n",
              "    </tr>\n",
              "    <tr>\n",
              "      <th>4</th>\n",
              "      <td>SHQZEYTZ</td>\n",
              "      <td>Female</td>\n",
              "      <td>29</td>\n",
              "      <td>RG270</td>\n",
              "      <td>Other</td>\n",
              "      <td>X1</td>\n",
              "      <td>19</td>\n",
              "      <td>No</td>\n",
              "      <td>657087</td>\n",
              "      <td>No</td>\n",
              "    </tr>\n",
              "  </tbody>\n",
              "</table>\n",
              "</div>"
            ],
            "text/plain": [
              "         ID  Gender  Age  ... Credit_Product Avg_Account_Balance Is_Active\n",
              "0  VBENBARO    Male   29  ...            Yes              742366        No\n",
              "1  CCMEWNKY    Male   43  ...            NaN              925537        No\n",
              "2  VK3KGA9M    Male   31  ...             No              215949        No\n",
              "3  TT8RPZVC    Male   29  ...             No              868070        No\n",
              "4  SHQZEYTZ  Female   29  ...             No              657087        No\n",
              "\n",
              "[5 rows x 10 columns]"
            ]
          },
          "metadata": {},
          "execution_count": 40
        }
      ]
    },
    {
      "cell_type": "code",
      "metadata": {
        "colab": {
          "base_uri": "https://localhost:8080/"
        },
        "id": "Yao8J5k9-5VC",
        "outputId": "2981371c-fd01-41a9-c86e-df98f52e91c6"
      },
      "source": [
        "test.shape"
      ],
      "execution_count": 41,
      "outputs": [
        {
          "output_type": "execute_result",
          "data": {
            "text/plain": [
              "(105312, 10)"
            ]
          },
          "metadata": {},
          "execution_count": 41
        }
      ]
    },
    {
      "cell_type": "code",
      "metadata": {
        "colab": {
          "base_uri": "https://localhost:8080/",
          "height": 390
        },
        "id": "aClt7HoC-6re",
        "outputId": "81acd10f-f09c-4f8e-f813-a7f3f3c7704e"
      },
      "source": [
        "train.describe(include='all')"
      ],
      "execution_count": 42,
      "outputs": [
        {
          "output_type": "execute_result",
          "data": {
            "text/html": [
              "<div>\n",
              "<style scoped>\n",
              "    .dataframe tbody tr th:only-of-type {\n",
              "        vertical-align: middle;\n",
              "    }\n",
              "\n",
              "    .dataframe tbody tr th {\n",
              "        vertical-align: top;\n",
              "    }\n",
              "\n",
              "    .dataframe thead th {\n",
              "        text-align: right;\n",
              "    }\n",
              "</style>\n",
              "<table border=\"1\" class=\"dataframe\">\n",
              "  <thead>\n",
              "    <tr style=\"text-align: right;\">\n",
              "      <th></th>\n",
              "      <th>ID</th>\n",
              "      <th>Gender</th>\n",
              "      <th>Age</th>\n",
              "      <th>Region_Code</th>\n",
              "      <th>Occupation</th>\n",
              "      <th>Channel_Code</th>\n",
              "      <th>Vintage</th>\n",
              "      <th>Credit_Product</th>\n",
              "      <th>Avg_Account_Balance</th>\n",
              "      <th>Is_Active</th>\n",
              "      <th>Is_Lead</th>\n",
              "    </tr>\n",
              "  </thead>\n",
              "  <tbody>\n",
              "    <tr>\n",
              "      <th>count</th>\n",
              "      <td>245725</td>\n",
              "      <td>245725</td>\n",
              "      <td>245725.000000</td>\n",
              "      <td>245725</td>\n",
              "      <td>245725</td>\n",
              "      <td>245725</td>\n",
              "      <td>245725.000000</td>\n",
              "      <td>216400</td>\n",
              "      <td>2.457250e+05</td>\n",
              "      <td>245725</td>\n",
              "      <td>245725.000000</td>\n",
              "    </tr>\n",
              "    <tr>\n",
              "      <th>unique</th>\n",
              "      <td>245725</td>\n",
              "      <td>2</td>\n",
              "      <td>NaN</td>\n",
              "      <td>35</td>\n",
              "      <td>4</td>\n",
              "      <td>4</td>\n",
              "      <td>NaN</td>\n",
              "      <td>2</td>\n",
              "      <td>NaN</td>\n",
              "      <td>2</td>\n",
              "      <td>NaN</td>\n",
              "    </tr>\n",
              "    <tr>\n",
              "      <th>top</th>\n",
              "      <td>8ZL33CEC</td>\n",
              "      <td>Male</td>\n",
              "      <td>NaN</td>\n",
              "      <td>RG268</td>\n",
              "      <td>Self_Employed</td>\n",
              "      <td>X1</td>\n",
              "      <td>NaN</td>\n",
              "      <td>No</td>\n",
              "      <td>NaN</td>\n",
              "      <td>No</td>\n",
              "      <td>NaN</td>\n",
              "    </tr>\n",
              "    <tr>\n",
              "      <th>freq</th>\n",
              "      <td>1</td>\n",
              "      <td>134197</td>\n",
              "      <td>NaN</td>\n",
              "      <td>35934</td>\n",
              "      <td>100886</td>\n",
              "      <td>103718</td>\n",
              "      <td>NaN</td>\n",
              "      <td>144357</td>\n",
              "      <td>NaN</td>\n",
              "      <td>150290</td>\n",
              "      <td>NaN</td>\n",
              "    </tr>\n",
              "    <tr>\n",
              "      <th>mean</th>\n",
              "      <td>NaN</td>\n",
              "      <td>NaN</td>\n",
              "      <td>43.856307</td>\n",
              "      <td>NaN</td>\n",
              "      <td>NaN</td>\n",
              "      <td>NaN</td>\n",
              "      <td>46.959141</td>\n",
              "      <td>NaN</td>\n",
              "      <td>1.128403e+06</td>\n",
              "      <td>NaN</td>\n",
              "      <td>0.237208</td>\n",
              "    </tr>\n",
              "    <tr>\n",
              "      <th>std</th>\n",
              "      <td>NaN</td>\n",
              "      <td>NaN</td>\n",
              "      <td>14.828672</td>\n",
              "      <td>NaN</td>\n",
              "      <td>NaN</td>\n",
              "      <td>NaN</td>\n",
              "      <td>32.353136</td>\n",
              "      <td>NaN</td>\n",
              "      <td>8.529364e+05</td>\n",
              "      <td>NaN</td>\n",
              "      <td>0.425372</td>\n",
              "    </tr>\n",
              "    <tr>\n",
              "      <th>min</th>\n",
              "      <td>NaN</td>\n",
              "      <td>NaN</td>\n",
              "      <td>23.000000</td>\n",
              "      <td>NaN</td>\n",
              "      <td>NaN</td>\n",
              "      <td>NaN</td>\n",
              "      <td>7.000000</td>\n",
              "      <td>NaN</td>\n",
              "      <td>2.079000e+04</td>\n",
              "      <td>NaN</td>\n",
              "      <td>0.000000</td>\n",
              "    </tr>\n",
              "    <tr>\n",
              "      <th>25%</th>\n",
              "      <td>NaN</td>\n",
              "      <td>NaN</td>\n",
              "      <td>30.000000</td>\n",
              "      <td>NaN</td>\n",
              "      <td>NaN</td>\n",
              "      <td>NaN</td>\n",
              "      <td>20.000000</td>\n",
              "      <td>NaN</td>\n",
              "      <td>6.043100e+05</td>\n",
              "      <td>NaN</td>\n",
              "      <td>0.000000</td>\n",
              "    </tr>\n",
              "    <tr>\n",
              "      <th>50%</th>\n",
              "      <td>NaN</td>\n",
              "      <td>NaN</td>\n",
              "      <td>43.000000</td>\n",
              "      <td>NaN</td>\n",
              "      <td>NaN</td>\n",
              "      <td>NaN</td>\n",
              "      <td>32.000000</td>\n",
              "      <td>NaN</td>\n",
              "      <td>8.946010e+05</td>\n",
              "      <td>NaN</td>\n",
              "      <td>0.000000</td>\n",
              "    </tr>\n",
              "    <tr>\n",
              "      <th>75%</th>\n",
              "      <td>NaN</td>\n",
              "      <td>NaN</td>\n",
              "      <td>54.000000</td>\n",
              "      <td>NaN</td>\n",
              "      <td>NaN</td>\n",
              "      <td>NaN</td>\n",
              "      <td>73.000000</td>\n",
              "      <td>NaN</td>\n",
              "      <td>1.366666e+06</td>\n",
              "      <td>NaN</td>\n",
              "      <td>0.000000</td>\n",
              "    </tr>\n",
              "    <tr>\n",
              "      <th>max</th>\n",
              "      <td>NaN</td>\n",
              "      <td>NaN</td>\n",
              "      <td>85.000000</td>\n",
              "      <td>NaN</td>\n",
              "      <td>NaN</td>\n",
              "      <td>NaN</td>\n",
              "      <td>135.000000</td>\n",
              "      <td>NaN</td>\n",
              "      <td>1.035201e+07</td>\n",
              "      <td>NaN</td>\n",
              "      <td>1.000000</td>\n",
              "    </tr>\n",
              "  </tbody>\n",
              "</table>\n",
              "</div>"
            ],
            "text/plain": [
              "              ID  Gender  ...  Is_Active        Is_Lead\n",
              "count     245725  245725  ...     245725  245725.000000\n",
              "unique    245725       2  ...          2            NaN\n",
              "top     8ZL33CEC    Male  ...         No            NaN\n",
              "freq           1  134197  ...     150290            NaN\n",
              "mean         NaN     NaN  ...        NaN       0.237208\n",
              "std          NaN     NaN  ...        NaN       0.425372\n",
              "min          NaN     NaN  ...        NaN       0.000000\n",
              "25%          NaN     NaN  ...        NaN       0.000000\n",
              "50%          NaN     NaN  ...        NaN       0.000000\n",
              "75%          NaN     NaN  ...        NaN       0.000000\n",
              "max          NaN     NaN  ...        NaN       1.000000\n",
              "\n",
              "[11 rows x 11 columns]"
            ]
          },
          "metadata": {},
          "execution_count": 42
        }
      ]
    },
    {
      "cell_type": "code",
      "metadata": {
        "id": "uZSHb0vQ_3mz"
      },
      "source": [
        "# Droppinf ID columns as its each value is unique\n",
        "train.drop('ID',axis=1,inplace=True)\n",
        "test.drop('ID',axis=1,inplace=True)"
      ],
      "execution_count": 43,
      "outputs": []
    },
    {
      "cell_type": "code",
      "metadata": {
        "colab": {
          "base_uri": "https://localhost:8080/"
        },
        "id": "a83WtTzM_R7K",
        "outputId": "070a4fab-cda7-42ed-910e-15ede42a41d8"
      },
      "source": [
        "train.info()"
      ],
      "execution_count": 44,
      "outputs": [
        {
          "output_type": "stream",
          "name": "stdout",
          "text": [
            "<class 'pandas.core.frame.DataFrame'>\n",
            "RangeIndex: 245725 entries, 0 to 245724\n",
            "Data columns (total 10 columns):\n",
            " #   Column               Non-Null Count   Dtype \n",
            "---  ------               --------------   ----- \n",
            " 0   Gender               245725 non-null  object\n",
            " 1   Age                  245725 non-null  int64 \n",
            " 2   Region_Code          245725 non-null  object\n",
            " 3   Occupation           245725 non-null  object\n",
            " 4   Channel_Code         245725 non-null  object\n",
            " 5   Vintage              245725 non-null  int64 \n",
            " 6   Credit_Product       216400 non-null  object\n",
            " 7   Avg_Account_Balance  245725 non-null  int64 \n",
            " 8   Is_Active            245725 non-null  object\n",
            " 9   Is_Lead              245725 non-null  int64 \n",
            "dtypes: int64(4), object(6)\n",
            "memory usage: 18.7+ MB\n"
          ]
        }
      ]
    },
    {
      "cell_type": "code",
      "metadata": {
        "id": "6UGhCCXMPQ81"
      },
      "source": [
        ""
      ],
      "execution_count": 44,
      "outputs": []
    },
    {
      "cell_type": "code",
      "metadata": {
        "colab": {
          "base_uri": "https://localhost:8080/"
        },
        "id": "usRWRIKHANdN",
        "outputId": "424337a2-44ce-44ed-a226-fd127bf253fd"
      },
      "source": [
        "train.isnull().sum()\n"
      ],
      "execution_count": 45,
      "outputs": [
        {
          "output_type": "execute_result",
          "data": {
            "text/plain": [
              "Gender                     0\n",
              "Age                        0\n",
              "Region_Code                0\n",
              "Occupation                 0\n",
              "Channel_Code               0\n",
              "Vintage                    0\n",
              "Credit_Product         29325\n",
              "Avg_Account_Balance        0\n",
              "Is_Active                  0\n",
              "Is_Lead                    0\n",
              "dtype: int64"
            ]
          },
          "metadata": {},
          "execution_count": 45
        }
      ]
    },
    {
      "cell_type": "code",
      "metadata": {
        "colab": {
          "base_uri": "https://localhost:8080/"
        },
        "id": "yCQ2ZiOlGDn7",
        "outputId": "586f27ef-b718-47dc-f559-74796b23b7e1"
      },
      "source": [
        "test.isnull().sum()"
      ],
      "execution_count": 46,
      "outputs": [
        {
          "output_type": "execute_result",
          "data": {
            "text/plain": [
              "Gender                     0\n",
              "Age                        0\n",
              "Region_Code                0\n",
              "Occupation                 0\n",
              "Channel_Code               0\n",
              "Vintage                    0\n",
              "Credit_Product         12522\n",
              "Avg_Account_Balance        0\n",
              "Is_Active                  0\n",
              "dtype: int64"
            ]
          },
          "metadata": {},
          "execution_count": 46
        }
      ]
    },
    {
      "cell_type": "code",
      "metadata": {
        "colab": {
          "base_uri": "https://localhost:8080/"
        },
        "id": "SRL0cQA4GICS",
        "outputId": "4fc6b031-5776-4bde-bf6e-6757cb716107"
      },
      "source": [
        "train.Credit_Product.value_counts()"
      ],
      "execution_count": 47,
      "outputs": [
        {
          "output_type": "execute_result",
          "data": {
            "text/plain": [
              "No     144357\n",
              "Yes     72043\n",
              "Name: Credit_Product, dtype: int64"
            ]
          },
          "metadata": {},
          "execution_count": 47
        }
      ]
    },
    {
      "cell_type": "code",
      "metadata": {
        "id": "maj8Ts7fGQvf"
      },
      "source": [
        "# Filling null values in credit_product with forward fill method\n",
        "train = train.fillna(method='ffill')\n",
        "test = test.fillna(method='ffill')"
      ],
      "execution_count": 48,
      "outputs": []
    },
    {
      "cell_type": "code",
      "metadata": {
        "colab": {
          "base_uri": "https://localhost:8080/"
        },
        "id": "cuaQNk_rQJwi",
        "outputId": "ce87cf09-848e-4ae3-b3ff-99fdb9365b52"
      },
      "source": [
        "train.Credit_Product.value_counts()"
      ],
      "execution_count": 49,
      "outputs": [
        {
          "output_type": "execute_result",
          "data": {
            "text/plain": [
              "No     163751\n",
              "Yes     81974\n",
              "Name: Credit_Product, dtype: int64"
            ]
          },
          "metadata": {},
          "execution_count": 49
        }
      ]
    },
    {
      "cell_type": "code",
      "metadata": {
        "colab": {
          "base_uri": "https://localhost:8080/"
        },
        "id": "SryQin_wGckZ",
        "outputId": "fcbb93be-8a8d-4517-f542-0468a03a7978"
      },
      "source": [
        "# Verifying null values\n",
        "train.isnull().sum()"
      ],
      "execution_count": 50,
      "outputs": [
        {
          "output_type": "execute_result",
          "data": {
            "text/plain": [
              "Gender                 0\n",
              "Age                    0\n",
              "Region_Code            0\n",
              "Occupation             0\n",
              "Channel_Code           0\n",
              "Vintage                0\n",
              "Credit_Product         0\n",
              "Avg_Account_Balance    0\n",
              "Is_Active              0\n",
              "Is_Lead                0\n",
              "dtype: int64"
            ]
          },
          "metadata": {},
          "execution_count": 50
        }
      ]
    },
    {
      "cell_type": "code",
      "metadata": {
        "colab": {
          "base_uri": "https://localhost:8080/",
          "height": 350
        },
        "id": "VQcHpZEYNrnl",
        "outputId": "099e10cc-a2c7-4b52-a320-7ab72153a2a9"
      },
      "source": [
        "sns.boxplot(train.Age)"
      ],
      "execution_count": 51,
      "outputs": [
        {
          "output_type": "stream",
          "name": "stderr",
          "text": [
            "/usr/local/lib/python3.7/dist-packages/seaborn/_decorators.py:43: FutureWarning: Pass the following variable as a keyword arg: x. From version 0.12, the only valid positional argument will be `data`, and passing other arguments without an explicit keyword will result in an error or misinterpretation.\n",
            "  FutureWarning\n"
          ]
        },
        {
          "output_type": "execute_result",
          "data": {
            "text/plain": [
              "<matplotlib.axes._subplots.AxesSubplot at 0x7f1899692cd0>"
            ]
          },
          "metadata": {},
          "execution_count": 51
        },
        {
          "output_type": "display_data",
          "data": {
            "image/png": "[encoded data removed]",
            "text/plain": [
              "<Figure size 432x288 with 1 Axes>"
            ]
          },
          "metadata": {
            "needs_background": "light"
          }
        }
      ]
    },
    {
      "cell_type": "code",
      "metadata": {
        "id": "D7MgrE8iTG7B",
        "colab": {
          "base_uri": "https://localhost:8080/",
          "height": 350
        },
        "outputId": "2547cedd-59cb-41d9-e130-3e32a2934cd9"
      },
      "source": [
        "sns.boxplot(train.Vintage)"
      ],
      "execution_count": 52,
      "outputs": [
        {
          "output_type": "stream",
          "name": "stderr",
          "text": [
            "/usr/local/lib/python3.7/dist-packages/seaborn/_decorators.py:43: FutureWarning: Pass the following variable as a keyword arg: x. From version 0.12, the only valid positional argument will be `data`, and passing other arguments without an explicit keyword will result in an error or misinterpretation.\n",
            "  FutureWarning\n"
          ]
        },
        {
          "output_type": "execute_result",
          "data": {
            "text/plain": [
              "<matplotlib.axes._subplots.AxesSubplot at 0x7f1897fc8e50>"
            ]
          },
          "metadata": {},
          "execution_count": 52
        },
        {
          "output_type": "display_data",
          "data": {
            "image/png": "[encoded data removed]",
            "text/plain": [
              "<Figure size 432x288 with 1 Axes>"
            ]
          },
          "metadata": {
            "needs_background": "light"
          }
        }
      ]
    },
    {
      "cell_type": "code",
      "metadata": {
        "colab": {
          "base_uri": "https://localhost:8080/",
          "height": 351
        },
        "id": "-TYbxVtfgdMQ",
        "outputId": "38a4fa9c-972e-49d5-c150-bb2bf7867167"
      },
      "source": [
        "# Outliers are there for Avg_Account_Balance\n",
        "\n",
        "sns.boxplot(train.Avg_Account_Balance)\n"
      ],
      "execution_count": 53,
      "outputs": [
        {
          "output_type": "stream",
          "name": "stderr",
          "text": [
            "/usr/local/lib/python3.7/dist-packages/seaborn/_decorators.py:43: FutureWarning: Pass the following variable as a keyword arg: x. From version 0.12, the only valid positional argument will be `data`, and passing other arguments without an explicit keyword will result in an error or misinterpretation.\n",
            "  FutureWarning\n"
          ]
        },
        {
          "output_type": "execute_result",
          "data": {
            "text/plain": [
              "<matplotlib.axes._subplots.AxesSubplot at 0x7f1897f33690>"
            ]
          },
          "metadata": {},
          "execution_count": 53
        },
        {
          "output_type": "display_data",
          "data": {
            "image/png": "[encoded data removed]",
            "text/plain": [
              "<Figure size 432x288 with 1 Axes>"
            ]
          },
          "metadata": {
            "needs_background": "light"
          }
        }
      ]
    },
    {
      "cell_type": "code",
      "metadata": {
        "colab": {
          "base_uri": "https://localhost:8080/",
          "height": 362
        },
        "id": "UXqUw5qAgjdq",
        "outputId": "b67f8e56-478f-4ac9-c02f-29df350404c5"
      },
      "source": [
        "sns.distplot(train.Avg_Account_Balance)"
      ],
      "execution_count": 54,
      "outputs": [
        {
          "output_type": "stream",
          "name": "stderr",
          "text": [
            "/usr/local/lib/python3.7/dist-packages/seaborn/distributions.py:2557: FutureWarning: `distplot` is a deprecated function and will be removed in a future version. Please adapt your code to use either `displot` (a figure-level function with similar flexibility) or `histplot` (an axes-level function for histograms).\n",
            "  warnings.warn(msg, FutureWarning)\n"
          ]
        },
        {
          "output_type": "execute_result",
          "data": {
            "text/plain": [
              "<matplotlib.axes._subplots.AxesSubplot at 0x7f1897f11550>"
            ]
          },
          "metadata": {},
          "execution_count": 54
        },
        {
          "output_type": "display_data",
          "data": {
            "image/png": "[encoded data removed]",
            "text/plain": [
              "<Figure size 432x288 with 1 Axes>"
            ]
          },
          "metadata": {
            "needs_background": "light"
          }
        }
      ]
    },
    {
      "cell_type": "code",
      "metadata": {
        "colab": {
          "base_uri": "https://localhost:8080/"
        },
        "id": "5D34ma0yHuV6",
        "outputId": "e2aef273-82ee-4c40-d676-0efc9ca450ea"
      },
      "source": [
        "train.Avg_Account_Balance.min()"
      ],
      "execution_count": 55,
      "outputs": [
        {
          "output_type": "execute_result",
          "data": {
            "text/plain": [
              "20790"
            ]
          },
          "metadata": {},
          "execution_count": 55
        }
      ]
    },
    {
      "cell_type": "code",
      "metadata": {
        "colab": {
          "base_uri": "https://localhost:8080/"
        },
        "id": "V1AArCCxKKwk",
        "outputId": "e8221d2c-9934-4883-a362-70ac1b05310e"
      },
      "source": [
        "train.Avg_Account_Balance.max()"
      ],
      "execution_count": 56,
      "outputs": [
        {
          "output_type": "execute_result",
          "data": {
            "text/plain": [
              "10352009"
            ]
          },
          "metadata": {},
          "execution_count": 56
        }
      ]
    },
    {
      "cell_type": "code",
      "metadata": {
        "colab": {
          "base_uri": "https://localhost:8080/"
        },
        "id": "WTY9CrxbKNqo",
        "outputId": "e9341e9e-6a71-4bb6-c89b-75751fbf7fe2"
      },
      "source": [
        "acc_with_high_bal = train[train.Avg_Account_Balance>400000]\n",
        "acc_with_high_bal.shape[0]"
      ],
      "execution_count": 57,
      "outputs": [
        {
          "output_type": "execute_result",
          "data": {
            "text/plain": [
              "226670"
            ]
          },
          "metadata": {},
          "execution_count": 57
        }
      ]
    },
    {
      "cell_type": "code",
      "metadata": {
        "colab": {
          "base_uri": "https://localhost:8080/"
        },
        "id": "d-ioBpLPKgDO",
        "outputId": "5f936006-2ca7-4de3-d26f-3f0c4c17c9f3"
      },
      "source": [
        "train.shape"
      ],
      "execution_count": 58,
      "outputs": [
        {
          "output_type": "execute_result",
          "data": {
            "text/plain": [
              "(245725, 10)"
            ]
          },
          "metadata": {},
          "execution_count": 58
        }
      ]
    },
    {
      "cell_type": "code",
      "metadata": {
        "colab": {
          "base_uri": "https://localhost:8080/"
        },
        "id": "1Ib1xm_RLq_A",
        "outputId": "2a64ff4d-964f-41c2-85eb-c638e8e83cb3"
      },
      "source": [
        "# Removinh 3% outliers \n",
        "x = train.Avg_Account_Balance.quantile(0.97)\n",
        "train_new = train[train.Avg_Account_Balance < x]\n",
        "train_new.shape"
      ],
      "execution_count": 59,
      "outputs": [
        {
          "output_type": "execute_result",
          "data": {
            "text/plain": [
              "(238351, 10)"
            ]
          },
          "metadata": {},
          "execution_count": 59
        }
      ]
    },
    {
      "cell_type": "code",
      "metadata": {
        "colab": {
          "base_uri": "https://localhost:8080/",
          "height": 204
        },
        "id": "oh-RacOFNdfm",
        "outputId": "ee73a2f9-f7a3-4c0c-a340-1aa5836713f4"
      },
      "source": [
        "train_new.head()"
      ],
      "execution_count": 74,
      "outputs": [
        {
          "output_type": "execute_result",
          "data": {
            "text/html": [
              "<div>\n",
              "<style scoped>\n",
              "    .dataframe tbody tr th:only-of-type {\n",
              "        vertical-align: middle;\n",
              "    }\n",
              "\n",
              "    .dataframe tbody tr th {\n",
              "        vertical-align: top;\n",
              "    }\n",
              "\n",
              "    .dataframe thead th {\n",
              "        text-align: right;\n",
              "    }\n",
              "</style>\n",
              "<table border=\"1\" class=\"dataframe\">\n",
              "  <thead>\n",
              "    <tr style=\"text-align: right;\">\n",
              "      <th></th>\n",
              "      <th>Gender</th>\n",
              "      <th>Age</th>\n",
              "      <th>Region_Code</th>\n",
              "      <th>Occupation</th>\n",
              "      <th>Channel_Code</th>\n",
              "      <th>Vintage</th>\n",
              "      <th>Credit_Product</th>\n",
              "      <th>Avg_Account_Balance</th>\n",
              "      <th>Is_Active</th>\n",
              "      <th>Is_Lead</th>\n",
              "    </tr>\n",
              "  </thead>\n",
              "  <tbody>\n",
              "    <tr>\n",
              "      <th>0</th>\n",
              "      <td>Female</td>\n",
              "      <td>73</td>\n",
              "      <td>RG268</td>\n",
              "      <td>Other</td>\n",
              "      <td>X3</td>\n",
              "      <td>43</td>\n",
              "      <td>No</td>\n",
              "      <td>1045696</td>\n",
              "      <td>No</td>\n",
              "      <td>0</td>\n",
              "    </tr>\n",
              "    <tr>\n",
              "      <th>1</th>\n",
              "      <td>Female</td>\n",
              "      <td>30</td>\n",
              "      <td>RG277</td>\n",
              "      <td>Salaried</td>\n",
              "      <td>X1</td>\n",
              "      <td>32</td>\n",
              "      <td>No</td>\n",
              "      <td>581988</td>\n",
              "      <td>No</td>\n",
              "      <td>0</td>\n",
              "    </tr>\n",
              "    <tr>\n",
              "      <th>2</th>\n",
              "      <td>Female</td>\n",
              "      <td>56</td>\n",
              "      <td>RG268</td>\n",
              "      <td>Self_Employed</td>\n",
              "      <td>X3</td>\n",
              "      <td>26</td>\n",
              "      <td>No</td>\n",
              "      <td>1484315</td>\n",
              "      <td>Yes</td>\n",
              "      <td>0</td>\n",
              "    </tr>\n",
              "    <tr>\n",
              "      <th>3</th>\n",
              "      <td>Male</td>\n",
              "      <td>34</td>\n",
              "      <td>RG270</td>\n",
              "      <td>Salaried</td>\n",
              "      <td>X1</td>\n",
              "      <td>19</td>\n",
              "      <td>No</td>\n",
              "      <td>470454</td>\n",
              "      <td>No</td>\n",
              "      <td>0</td>\n",
              "    </tr>\n",
              "    <tr>\n",
              "      <th>4</th>\n",
              "      <td>Female</td>\n",
              "      <td>30</td>\n",
              "      <td>RG282</td>\n",
              "      <td>Salaried</td>\n",
              "      <td>X1</td>\n",
              "      <td>33</td>\n",
              "      <td>No</td>\n",
              "      <td>886787</td>\n",
              "      <td>No</td>\n",
              "      <td>0</td>\n",
              "    </tr>\n",
              "  </tbody>\n",
              "</table>\n",
              "</div>"
            ],
            "text/plain": [
              "   Gender  Age Region_Code  ... Avg_Account_Balance Is_Active  Is_Lead\n",
              "0  Female   73       RG268  ...             1045696        No        0\n",
              "1  Female   30       RG277  ...              581988        No        0\n",
              "2  Female   56       RG268  ...             1484315       Yes        0\n",
              "3    Male   34       RG270  ...              470454        No        0\n",
              "4  Female   30       RG282  ...              886787        No        0\n",
              "\n",
              "[5 rows x 10 columns]"
            ]
          },
          "metadata": {},
          "execution_count": 74
        }
      ]
    },
    {
      "cell_type": "code",
      "metadata": {
        "colab": {
          "base_uri": "https://localhost:8080/",
          "height": 362
        },
        "id": "WCPgKWp8OikQ",
        "outputId": "bdada4b4-6130-4e45-d969-782634943a5d"
      },
      "source": [
        "# Still skewness os there but better than previous\n",
        "sns.distplot(train_new.Avg_Account_Balance)"
      ],
      "execution_count": 61,
      "outputs": [
        {
          "output_type": "stream",
          "name": "stderr",
          "text": [
            "/usr/local/lib/python3.7/dist-packages/seaborn/distributions.py:2557: FutureWarning: `distplot` is a deprecated function and will be removed in a future version. Please adapt your code to use either `displot` (a figure-level function with similar flexibility) or `histplot` (an axes-level function for histograms).\n",
            "  warnings.warn(msg, FutureWarning)\n"
          ]
        },
        {
          "output_type": "execute_result",
          "data": {
            "text/plain": [
              "<matplotlib.axes._subplots.AxesSubplot at 0x7f1897dbb950>"
            ]
          },
          "metadata": {},
          "execution_count": 61
        },
        {
          "output_type": "display_data",
          "data": {
            "image/png": "[encoded data removed]",
            "text/plain": [
              "<Figure size 432x288 with 1 Axes>"
            ]
          },
          "metadata": {
            "needs_background": "light"
          }
        }
      ]
    },
    {
      "cell_type": "code",
      "metadata": {
        "id": "97fo6NVxSk-v"
      },
      "source": [
        "Y=train_new[['Is_Lead']]\n",
        "\n",
        "X=train_new.drop(['Is_Lead'],axis=1)"
      ],
      "execution_count": 75,
      "outputs": []
    },
    {
      "cell_type": "code",
      "metadata": {
        "id": "wa1GN6g0OrwJ"
      },
      "source": [
        "# Identifying categorical and numerical features\n",
        "num=X.select_dtypes(include=\"number\")\n",
        "cat=X.select_dtypes(include=\"object\")"
      ],
      "execution_count": 76,
      "outputs": []
    },
    {
      "cell_type": "code",
      "metadata": {
        "colab": {
          "base_uri": "https://localhost:8080/"
        },
        "id": "m7vBPinuPKhN",
        "outputId": "ba0a5037-58f4-4d96-d3c4-4d51bb090dfc"
      },
      "source": [
        "num.columns"
      ],
      "execution_count": 77,
      "outputs": [
        {
          "output_type": "execute_result",
          "data": {
            "text/plain": [
              "Index(['Age', 'Vintage', 'Avg_Account_Balance'], dtype='object')"
            ]
          },
          "metadata": {},
          "execution_count": 77
        }
      ]
    },
    {
      "cell_type": "code",
      "metadata": {
        "colab": {
          "base_uri": "https://localhost:8080/"
        },
        "id": "r0o2zyA6PKde",
        "outputId": "0d321d9f-dbb0-4099-a4ac-66fea675f9ee"
      },
      "source": [
        "cat.columns"
      ],
      "execution_count": 78,
      "outputs": [
        {
          "output_type": "execute_result",
          "data": {
            "text/plain": [
              "Index(['Gender', 'Region_Code', 'Occupation', 'Channel_Code', 'Credit_Product',\n",
              "       'Is_Active'],\n",
              "      dtype='object')"
            ]
          },
          "metadata": {},
          "execution_count": 78
        }
      ]
    },
    {
      "cell_type": "code",
      "metadata": {
        "colab": {
          "base_uri": "https://localhost:8080/",
          "height": 204
        },
        "id": "e6TPZdBQR6i1",
        "outputId": "7df950ae-1dbf-4bbe-e1fe-92685443744d"
      },
      "source": [
        "num.head()"
      ],
      "execution_count": 79,
      "outputs": [
        {
          "output_type": "execute_result",
          "data": {
            "text/html": [
              "<div>\n",
              "<style scoped>\n",
              "    .dataframe tbody tr th:only-of-type {\n",
              "        vertical-align: middle;\n",
              "    }\n",
              "\n",
              "    .dataframe tbody tr th {\n",
              "        vertical-align: top;\n",
              "    }\n",
              "\n",
              "    .dataframe thead th {\n",
              "        text-align: right;\n",
              "    }\n",
              "</style>\n",
              "<table border=\"1\" class=\"dataframe\">\n",
              "  <thead>\n",
              "    <tr style=\"text-align: right;\">\n",
              "      <th></th>\n",
              "      <th>Age</th>\n",
              "      <th>Vintage</th>\n",
              "      <th>Avg_Account_Balance</th>\n",
              "    </tr>\n",
              "  </thead>\n",
              "  <tbody>\n",
              "    <tr>\n",
              "      <th>0</th>\n",
              "      <td>73</td>\n",
              "      <td>43</td>\n",
              "      <td>1045696</td>\n",
              "    </tr>\n",
              "    <tr>\n",
              "      <th>1</th>\n",
              "      <td>30</td>\n",
              "      <td>32</td>\n",
              "      <td>581988</td>\n",
              "    </tr>\n",
              "    <tr>\n",
              "      <th>2</th>\n",
              "      <td>56</td>\n",
              "      <td>26</td>\n",
              "      <td>1484315</td>\n",
              "    </tr>\n",
              "    <tr>\n",
              "      <th>3</th>\n",
              "      <td>34</td>\n",
              "      <td>19</td>\n",
              "      <td>470454</td>\n",
              "    </tr>\n",
              "    <tr>\n",
              "      <th>4</th>\n",
              "      <td>30</td>\n",
              "      <td>33</td>\n",
              "      <td>886787</td>\n",
              "    </tr>\n",
              "  </tbody>\n",
              "</table>\n",
              "</div>"
            ],
            "text/plain": [
              "   Age  Vintage  Avg_Account_Balance\n",
              "0   73       43              1045696\n",
              "1   30       32               581988\n",
              "2   56       26              1484315\n",
              "3   34       19               470454\n",
              "4   30       33               886787"
            ]
          },
          "metadata": {},
          "execution_count": 79
        }
      ]
    },
    {
      "cell_type": "code",
      "metadata": {
        "id": "Wn8uSFvTPKW5"
      },
      "source": [
        "# Removing numerical features with zero variance\n",
        "from sklearn.feature_selection import VarianceThreshold\n",
        "\n",
        "varselector= VarianceThreshold(threshold=0)\n",
        "varselector.fit_transform(num)\n",
        "# Get columns to keep and create new dataframe with those only\n",
        "cols = varselector.get_support(indices=True)\n",
        "num_1 = num.iloc[:,cols]"
      ],
      "execution_count": 80,
      "outputs": []
    },
    {
      "cell_type": "code",
      "metadata": {
        "colab": {
          "base_uri": "https://localhost:8080/",
          "height": 204
        },
        "id": "8-FhjxLLPKQB",
        "outputId": "71409f90-a07d-46e5-fe43-3feb5fadce84"
      },
      "source": [
        "# none of numerical columns had zero variance\n",
        "num_1.head()"
      ],
      "execution_count": 81,
      "outputs": [
        {
          "output_type": "execute_result",
          "data": {
            "text/html": [
              "<div>\n",
              "<style scoped>\n",
              "    .dataframe tbody tr th:only-of-type {\n",
              "        vertical-align: middle;\n",
              "    }\n",
              "\n",
              "    .dataframe tbody tr th {\n",
              "        vertical-align: top;\n",
              "    }\n",
              "\n",
              "    .dataframe thead th {\n",
              "        text-align: right;\n",
              "    }\n",
              "</style>\n",
              "<table border=\"1\" class=\"dataframe\">\n",
              "  <thead>\n",
              "    <tr style=\"text-align: right;\">\n",
              "      <th></th>\n",
              "      <th>Age</th>\n",
              "      <th>Vintage</th>\n",
              "      <th>Avg_Account_Balance</th>\n",
              "    </tr>\n",
              "  </thead>\n",
              "  <tbody>\n",
              "    <tr>\n",
              "      <th>0</th>\n",
              "      <td>73</td>\n",
              "      <td>43</td>\n",
              "      <td>1045696</td>\n",
              "    </tr>\n",
              "    <tr>\n",
              "      <th>1</th>\n",
              "      <td>30</td>\n",
              "      <td>32</td>\n",
              "      <td>581988</td>\n",
              "    </tr>\n",
              "    <tr>\n",
              "      <th>2</th>\n",
              "      <td>56</td>\n",
              "      <td>26</td>\n",
              "      <td>1484315</td>\n",
              "    </tr>\n",
              "    <tr>\n",
              "      <th>3</th>\n",
              "      <td>34</td>\n",
              "      <td>19</td>\n",
              "      <td>470454</td>\n",
              "    </tr>\n",
              "    <tr>\n",
              "      <th>4</th>\n",
              "      <td>30</td>\n",
              "      <td>33</td>\n",
              "      <td>886787</td>\n",
              "    </tr>\n",
              "  </tbody>\n",
              "</table>\n",
              "</div>"
            ],
            "text/plain": [
              "   Age  Vintage  Avg_Account_Balance\n",
              "0   73       43              1045696\n",
              "1   30       32               581988\n",
              "2   56       26              1484315\n",
              "3   34       19               470454\n",
              "4   30       33               886787"
            ]
          },
          "metadata": {},
          "execution_count": 81
        }
      ]
    },
    {
      "cell_type": "code",
      "metadata": {
        "colab": {
          "base_uri": "https://localhost:8080/"
        },
        "id": "Glmi18h0PKFF",
        "outputId": "c3719328-a091-4a97-d8be-9a49402db3f7"
      },
      "source": [
        "# Checking lead conversion percentage\n",
        "\n",
        "train.Is_Lead.mean()"
      ],
      "execution_count": 83,
      "outputs": [
        {
          "output_type": "execute_result",
          "data": {
            "text/plain": [
              "0.23720826126767727"
            ]
          },
          "metadata": {},
          "execution_count": 83
        }
      ]
    },
    {
      "cell_type": "code",
      "metadata": {
        "colab": {
          "base_uri": "https://localhost:8080/",
          "height": 204
        },
        "id": "qtwqjbUUQzHp",
        "outputId": "191dfd79-529b-42d8-8e6b-9aca42995be7"
      },
      "source": [
        "# Binning numeric values into 10 bins on basis of their quartiles\n",
        "from sklearn.preprocessing import KBinsDiscretizer\n",
        "discrete=KBinsDiscretizer(n_bins=10,encode='ordinal', strategy='quantile')\n",
        "num_binned=pd.DataFrame(discrete.fit_transform(num_1),index=num_1.index, columns=num_1.columns).add_suffix('_Rank')\n",
        "num_binned.head()"
      ],
      "execution_count": 85,
      "outputs": [
        {
          "output_type": "execute_result",
          "data": {
            "text/html": [
              "<div>\n",
              "<style scoped>\n",
              "    .dataframe tbody tr th:only-of-type {\n",
              "        vertical-align: middle;\n",
              "    }\n",
              "\n",
              "    .dataframe tbody tr th {\n",
              "        vertical-align: top;\n",
              "    }\n",
              "\n",
              "    .dataframe thead th {\n",
              "        text-align: right;\n",
              "    }\n",
              "</style>\n",
              "<table border=\"1\" class=\"dataframe\">\n",
              "  <thead>\n",
              "    <tr style=\"text-align: right;\">\n",
              "      <th></th>\n",
              "      <th>Age_Rank</th>\n",
              "      <th>Vintage_Rank</th>\n",
              "      <th>Avg_Account_Balance_Rank</th>\n",
              "    </tr>\n",
              "  </thead>\n",
              "  <tbody>\n",
              "    <tr>\n",
              "      <th>0</th>\n",
              "      <td>9.0</td>\n",
              "      <td>5.0</td>\n",
              "      <td>6.0</td>\n",
              "    </tr>\n",
              "    <tr>\n",
              "      <th>1</th>\n",
              "      <td>2.0</td>\n",
              "      <td>5.0</td>\n",
              "      <td>2.0</td>\n",
              "    </tr>\n",
              "    <tr>\n",
              "      <th>2</th>\n",
              "      <td>8.0</td>\n",
              "      <td>3.0</td>\n",
              "      <td>8.0</td>\n",
              "    </tr>\n",
              "    <tr>\n",
              "      <th>3</th>\n",
              "      <td>3.0</td>\n",
              "      <td>2.0</td>\n",
              "      <td>1.0</td>\n",
              "    </tr>\n",
              "    <tr>\n",
              "      <th>4</th>\n",
              "      <td>2.0</td>\n",
              "      <td>5.0</td>\n",
              "      <td>5.0</td>\n",
              "    </tr>\n",
              "  </tbody>\n",
              "</table>\n",
              "</div>"
            ],
            "text/plain": [
              "   Age_Rank  Vintage_Rank  Avg_Account_Balance_Rank\n",
              "0       9.0           5.0                       6.0\n",
              "1       2.0           5.0                       2.0\n",
              "2       8.0           3.0                       8.0\n",
              "3       3.0           2.0                       1.0\n",
              "4       2.0           5.0                       5.0"
            ]
          },
          "metadata": {},
          "execution_count": 85
        }
      ]
    },
    {
      "cell_type": "code",
      "metadata": {
        "colab": {
          "base_uri": "https://localhost:8080/",
          "height": 808
        },
        "id": "aOEzC1-YRS6X",
        "outputId": "9416ea3c-e8af-4192-fe3a-f831de03fab6"
      },
      "source": [
        "X_bin_combined=pd.concat([Y,num_binned],axis=1,join='inner')\n",
        "\n",
        "from numpy import mean\n",
        "for col in (num_binned.columns):\n",
        "    plt.figure()\n",
        "    sns.lineplot(x=col,y=X_bin_combined['Is_Lead'].mean(),data=X_bin_combined,color='red')\n",
        "    sns.barplot(x=col, y=\"Is_Lead\",data=X_bin_combined, estimator=mean )\n",
        "plt.show()\n",
        "\n",
        "# For all 3 variables there is a slope indicating higher their value higher changes of lead. Hence all can be good predictors"
      ],
      "execution_count": 87,
      "outputs": [
        {
          "output_type": "display_data",
          "data": {
            "image/png": "[encoded data removed]",
            "text/plain": [
              "<Figure size 432x288 with 1 Axes>"
            ]
          },
          "metadata": {
            "needs_background": "light"
          }
        },
        {
          "output_type": "display_data",
          "data": {
            "image/png": "[encoded data removed]",
            "text/plain": [
              "<Figure size 432x288 with 1 Axes>"
            ]
          },
          "metadata": {
            "needs_background": "light"
          }
        },
        {
          "output_type": "display_data",
          "data": {
            "image/png": "[encoded data removed]",
            "text/plain": [
              "<Figure size 432x288 with 1 Axes>"
            ]
          },
          "metadata": {
            "needs_background": "light"
          }
        }
      ]
    },
    {
      "cell_type": "code",
      "metadata": {
        "colab": {
          "base_uri": "https://localhost:8080/",
          "height": 1000
        },
        "id": "xd1u_8jyWgd1",
        "outputId": "31603173-25f8-44ed-e350-23d2afbe64ec"
      },
      "source": [
        "import matplotlib.pyplot as plt\n",
        "import seaborn as sns\n",
        "X_char_merged=pd.concat([Y,cat],axis=1,join='inner')\n",
        "\n",
        "from numpy import mean\n",
        "for col in (cat.columns):\n",
        "    plt.figure()\n",
        "    #sns.lineplot(x=col,y=X_char_merged['target'].mean(),data=X_char_merged,color='red')\n",
        "    sns.barplot(x=col, y=\"Is_Lead\",data=X_char_merged, estimator=mean )\n",
        "plt.show()\n",
        "\n",
        "# All categorical features can be good predictors."
      ],
      "execution_count": 90,
      "outputs": [
        {
          "output_type": "display_data",
          "data": {
            "image/png": "[encoded data removed]",
            "text/plain": [
              "<Figure size 432x288 with 1 Axes>"
            ]
          },
          "metadata": {
            "needs_background": "light"
          }
        },
        {
          "output_type": "display_data",
          "data": {
            "image/png": "[encoded data removed]",
            "text/plain": [
              "<Figure size 432x288 with 1 Axes>"
            ]
          },
          "metadata": {
            "needs_background": "light"
          }
        },
        {
          "output_type": "display_data",
          "data": {
            "image/png": "[encoded data removed]",
            "text/plain": [
              "<Figure size 432x288 with 1 Axes>"
            ]
          },
          "metadata": {
            "needs_background": "light"
          }
        },
        {
          "output_type": "display_data",
          "data": {
            "image/png": "[encoded data removed]",
            "text/plain": [
              "<Figure size 432x288 with 1 Axes>"
            ]
          },
          "metadata": {
            "needs_background": "light"
          }
        },
        {
          "output_type": "display_data",
          "data": {
            "image/png": "[encoded data removed]",
            "text/plain": [
              "<Figure size 432x288 with 1 Axes>"
            ]
          },
          "metadata": {
            "needs_background": "light"
          }
        },
        {
          "output_type": "display_data",
          "data": {
            "image/png": "[encoded data removed]",
            "text/plain": [
              "<Figure size 432x288 with 1 Axes>"
            ]
          },
          "metadata": {
            "needs_background": "light"
          }
        }
      ]
    },
    {
      "cell_type": "code",
      "metadata": {
        "id": "jBODfaXpXpKV"
      },
      "source": [
        ""
      ],
      "execution_count": null,
      "outputs": []
    }
  ]
}